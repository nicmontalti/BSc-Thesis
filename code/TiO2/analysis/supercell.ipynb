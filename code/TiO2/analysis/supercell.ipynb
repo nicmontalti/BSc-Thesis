{
 "cells": [
  {
   "cell_type": "code",
   "execution_count": 119,
   "metadata": {},
   "outputs": [],
   "source": [
    "from pymatgen.electronic_structure.dos import CompleteDos\n",
    "from pymatgen.io.vasp.outputs import Vasprun\n",
    "from pymatgen.electronic_structure.plotter import DosPlotter, BSDOSPlotter\n",
    "from pymatgen.electronic_structure.core import Spin\n",
    "from pymatgen.electronic_structure.plotter import BSPlotter\n",
    "\n",
    "import numpy as np\n",
    "from matplotlib import pyplot as plt"
   ]
  },
  {
   "cell_type": "code",
   "execution_count": 120,
   "metadata": {},
   "outputs": [],
   "source": [
    "polaron = True\n",
    "\n",
    "if polaron == True:\n",
    "    path_bands = './polaron/bands/'\n",
    "    path_dos = './polaron/dos/'\n",
    "else:\n",
    "    path_bands = './supercell/bands/'\n",
    "    path_dos = './supercell/dos/'    \n",
    "path_kpoints = './output_Ti39_sv/KPOINTS'"
   ]
  },
  {
   "cell_type": "code",
   "execution_count": 121,
   "metadata": {},
   "outputs": [
    {
     "name": "stderr",
     "output_type": "stream",
     "text": [
      "/usr/local/lib/python3.10/dist-packages/pymatgen/io/vasp/outputs.py:1062: UserWarning: No POTCAR file with matching TITEL fields was found in /home/egg/uni/Thesis/code/TiO2/analysis/polaron/dos\n",
      "  warnings.warn(f\"No POTCAR file with matching TITEL fields was found in {os.path.abspath(p)}\")\n"
     ]
    }
   ],
   "source": [
    "vasprun_dos = Vasprun(path_dos + 'vasprun.xml')"
   ]
  },
  {
   "cell_type": "code",
   "execution_count": 122,
   "metadata": {},
   "outputs": [],
   "source": [
    "structures = vasprun_dos.structures\n",
    "if polaron == True:\n",
    "    central_site = structures[0][0]\n",
    "else:\n",
    "    central_site = structures[0][40]\n",
    "\n",
    "dos = vasprun_dos.complete_dos\n",
    "central_site_dos = vasprun_dos.complete_dos.get_site_dos(central_site)\n",
    "total_dos = vasprun_dos.tdos\n",
    "\n",
    "energies = total_dos.energies\n",
    "\n",
    "total_densities_up = np.array(total_dos.densities[Spin(1)])\n",
    "central_densities_up = np.array(central_site_dos.densities[Spin(1)])\n",
    "\n",
    "if polaron == True:\n",
    "    total_densities_down = np.array(total_dos.densities[Spin(-1)])\n",
    "    central_densities_down = np.array(central_site_dos.densities[Spin(-1)])\n",
    "else:\n",
    "    total_densities_down = np.empty(total_densities_up.shape)\n",
    "    central_densities_down = np.empty(central_densities_up.shape)\n",
    "\n",
    "assert(np.all(np.abs(central_site.frac_coords - np.array([0.5,0.5,0.5])) < 0.01))"
   ]
  },
  {
   "cell_type": "code",
   "execution_count": 123,
   "metadata": {},
   "outputs": [
    {
     "name": "stderr",
     "output_type": "stream",
     "text": [
      "/usr/local/lib/python3.10/dist-packages/pymatgen/io/vasp/outputs.py:1062: UserWarning: No POTCAR file with matching TITEL fields was found in /home/egg/uni/Thesis/code/TiO2/analysis/polaron/bands\n",
      "  warnings.warn(f\"No POTCAR file with matching TITEL fields was found in {os.path.abspath(p)}\")\n"
     ]
    }
   ],
   "source": [
    "vasprun_bands = Vasprun(path_bands + 'vasprun.xml')"
   ]
  },
  {
   "cell_type": "code",
   "execution_count": 124,
   "metadata": {},
   "outputs": [],
   "source": [
    "bands = vasprun_bands.get_band_structure(kpoints_filename=path_kpoints, line_mode=True)\n",
    "\n",
    "bands_up = bands.bands[Spin(1)]\n",
    "if polaron == True:\n",
    "     bands_down = bands.bands[Spin(-1)]\n",
    "else:\n",
    "    bands_down = np.empty(bands_up.shape)\n",
    "kpoints_labels = bands.branches"
   ]
  },
  {
   "cell_type": "code",
   "execution_count": 125,
   "metadata": {},
   "outputs": [],
   "source": [
    "from matplotlib import rc\n",
    "rc('font',**{'family':'sans-serif','sans-serif':['Helvetica']})\n",
    "## for Palatino and other serif fonts use:\n",
    "#rc('font',**{'family':'serif','serif':['Palatino']})\n",
    "rc('text', usetex=True)\n",
    "\n",
    "text_width = 418.25368\n",
    "\n",
    "# Using seaborn's style\n",
    "plt.style.use('default')\n",
    "\n",
    "tex_fonts = {\n",
    "    # Use LaTeX to write all text\n",
    "    \"text.usetex\": True,\n",
    "    \"font.family\": \"serif\",\n",
    "    # Use 10pt font in plots, to match 10pt font in document\n",
    "    \"axes.labelsize\": 10,\n",
    "    \"font.size\": 10,\n",
    "    # Make the legend/label fonts a little smaller\n",
    "    \"legend.fontsize\": 8,\n",
    "    \"xtick.labelsize\": 8,\n",
    "    \"ytick.labelsize\": 8\n",
    "}\n",
    "\n",
    "plt.rcParams.update(tex_fonts)\n",
    "\n",
    "def set_size(width, fraction=1):\n",
    "    \"\"\"Set figure dimensions to avoid scaling in LaTeX.\n",
    "\n",
    "    Parameters\n",
    "    ----------\n",
    "    width: float\n",
    "            Document textwidth or columnwidth in pts\n",
    "    fraction: float, optional\n",
    "            Fraction of the width which you wish the figure to occupy\n",
    "\n",
    "    Returns\n",
    "    -------\n",
    "    fig_dim: tuple\n",
    "            Dimensions of figure in inches\n",
    "    \"\"\"\n",
    "    # Width of figure (in pts)\n",
    "    fig_width_pt = width * fraction\n",
    "\n",
    "    # Convert from pt to inches\n",
    "    inches_per_pt = 1 / 72.27\n",
    "\n",
    "    # Golden ratio to set aesthetic figure height\n",
    "    # https://disq.us/p/2940ij3\n",
    "    golden_ratio = (5**.5 - 1) / 2\n",
    "\n",
    "    # Figure width in inches\n",
    "    fig_width_in = fig_width_pt * inches_per_pt\n",
    "    # Figure height in inches\n",
    "    fig_height_in = fig_width_in * golden_ratio\n",
    "\n",
    "    fig_dim = (fig_width_in, fig_height_in)\n",
    "\n",
    "    return fig_dim"
   ]
  },
  {
   "cell_type": "code",
   "execution_count": 126,
   "metadata": {},
   "outputs": [],
   "source": [
    "all_bands = np.append(bands_up, bands_down, axis=0)\n",
    "efermi = bands.efermi\n",
    "\n",
    "cbands = []\n",
    "vbands = []\n",
    "\n",
    "for band in all_bands:\n",
    "    if np.all(band < efermi - 0.5):\n",
    "        vbands.append(band)\n",
    "    elif np.all(band > efermi + 0.5):\n",
    "        cbands.append(band)\n",
    "\n",
    "cbands = np.array(cbands).T\n",
    "vbands = np.array(vbands).T\n",
    "\n",
    "top_vband = np.max(vbands, axis=1)\n",
    "bottom_cband = np.min(cbands, axis=1)\n",
    "polaron_band = all_bands[(all_bands > efermi - 0.3)*(all_bands < efermi + 0.2)]\n",
    "bottom_vband = np.min(vbands, axis=1)\n",
    "top_cband = np.max(cbands, axis=1)"
   ]
  },
  {
   "cell_type": "code",
   "execution_count": 134,
   "metadata": {},
   "outputs": [
    {
     "data": {
      "text/plain": [
       "<matplotlib.legend.Legend at 0x7f22f5f393f0>"
      ]
     },
     "execution_count": 134,
     "metadata": {},
     "output_type": "execute_result"
    },
    {
     "data": {
      "image/png": "[encoded data removed]",
      "text/plain": [
       "<Figure size 578.738x357.68 with 2 Axes>"
      ]
     },
     "metadata": {},
     "output_type": "display_data"
    }
   ],
   "source": [
    "labels = ['Z', 'A', 'M', r'$\\Gamma$', 'Z', 'R', 'X', r'$\\Gamma$']\n",
    "gap = 10\n",
    "slice = np.arange(0, (len(labels)-1)*gap, gap)\n",
    "slice = np.append(slice, [-1])\n",
    "kpoints = np.array(bands.distance)[slice]\n",
    "\n",
    "fig_size = set_size(text_width, 1)\n",
    "\n",
    "fig = plt.figure(figsize=fig_size)\n",
    "ax_bs, ax_dos = fig.subplots(1,2, sharey=True, gridspec_kw={'width_ratios': [2, 1]})\n",
    "fig.subplots_adjust(wspace=0.05)\n",
    "\n",
    "#for band in bands_up:\n",
    "#    ax_bs.plot(bands.distance, band-efermi, color='black', linewidth=0.8)\n",
    "#for band in bands_down:\n",
    "#    ax_bs.plot(bands.distance, band-efermi, color='black', linewidth=0.8)\n",
    "\n",
    "ax_bs.fill_between(bands.distance, bottom_cband-efermi, top_cband-efermi, color='tab:olive', alpha=0.5, label='Conduction band')\n",
    "ax_bs.fill_between(bands.distance, bottom_vband-efermi, top_vband-efermi, color='tab:blue', alpha=0.5, label='Valence band')\n",
    "ax_bs.plot(bands.distance, bottom_cband-efermi, 2, color='tab:olive', alpha=1)\n",
    "ax_bs.plot(bands.distance, top_vband-efermi, -4, color='tab:blue', alpha=1)\n",
    "\n",
    "ax_dos.fill_between((total_densities_up+total_densities_down)/162, energies-efermi, color='lightgrey')\n",
    "ax_dos.plot((total_densities_up+total_densities_down)/162, energies-efermi, color='black', linewidth=1.25, label='Total')\n",
    "if polaron == True:\n",
    "    ax_bs.plot(bands.distance, polaron_band-efermi, color='black', label='Polaron', linewidth=1.25)\n",
    "    ax_dos.plot((central_densities_up+central_densities_down), energies-efermi, color='firebrick', label=r'Ti$^{3+}$', linewidth=1.25)\n",
    "    ax_dos.fill_between((central_densities_up+central_densities_down), energies-efermi, color='firebrick', alpha=0.4,  linewidth=1.25)\n",
    "\n",
    "\n",
    "ax_bs.axhline(0, color='firebrick', linestyle='--')\n",
    "ax_dos.axhline(0, color='firebrick', linestyle='--')\n",
    "\n",
    "#ax_bs.axhspan(-0.3, 0.2, color='firebrick', alpha=0.25)\n",
    "\n",
    "for kpoint in kpoints:\n",
    "    ax_bs.axvline(kpoint, color='black', linestyle=':', linewidth=1)\n",
    "\n",
    "ax_bs.set_ylim(-4,2)\n",
    "ax_bs.set_xlim(0, bands.distance[-1])\n",
    "ax_dos.set_xlim(0,6)\n",
    "ax_bs.grid()\n",
    "ax_dos.grid()\n",
    "\n",
    "ax_bs.set_ylabel(r'$E - E_f$ [eV]')\n",
    "ax_bs.set_xlabel('K-points')\n",
    "ax_bs.set_xticks(kpoints)\n",
    "ax_bs.set_xticklabels(labels)\n",
    "ax_dos.set_xlabel('DOS')\n",
    "#ax_dos.set_xticks()\n",
    "\n",
    "ax_dos.legend()\n",
    "ax_bs.legend(loc='lower left')"
   ]
  },
  {
   "cell_type": "code",
   "execution_count": 135,
   "metadata": {},
   "outputs": [],
   "source": [
    "if polaron == True:\n",
    "    name = 'polaron'\n",
    "else:\n",
    "    name = 'supercell'\n",
    "\n",
    "fig.savefig(name+'.pdf', format='pdf', bbox_inches='tight')"
   ]
  },
  {
   "cell_type": "code",
   "execution_count": 129,
   "metadata": {},
   "outputs": [
    {
     "data": {
      "text/plain": [
       "7.4259375"
      ]
     },
     "execution_count": 129,
     "metadata": {},
     "output_type": "execute_result"
    }
   ],
   "source": [
    "bands.efermi"
   ]
  },
  {
   "cell_type": "code",
   "execution_count": 130,
   "metadata": {},
   "outputs": [
    {
     "data": {
      "text/plain": [
       "7.91043386"
      ]
     },
     "execution_count": 130,
     "metadata": {},
     "output_type": "execute_result"
    }
   ],
   "source": [
    "dos.efermi"
   ]
  }
 ],
 "metadata": {
  "interpreter": {
   "hash": "916dbcbb3f70747c44a77c7bcd40155683ae19c65e1c03b4aa3499c5328201f1"
  },
  "kernelspec": {
   "display_name": "Python 3.10.4 64-bit",
   "language": "python",
   "name": "python3"
  },
  "language_info": {
   "codemirror_mode": {
    "name": "ipython",
    "version": 3
   },
   "file_extension": ".py",
   "mimetype": "text/x-python",
   "name": "python",
   "nbconvert_exporter": "python",
   "pygments_lexer": "ipython3",
   "version": "3.10.4"
  },
  "orig_nbformat": 4
 },
 "nbformat": 4,
 "nbformat_minor": 2
}
